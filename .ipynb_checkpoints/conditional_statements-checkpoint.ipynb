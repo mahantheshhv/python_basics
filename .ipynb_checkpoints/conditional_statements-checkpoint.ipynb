{
 "cells": [
  {
   "cell_type": "code",
   "execution_count": 1,
   "metadata": {
    "collapsed": false
   },
   "outputs": [
    {
     "name": "stdout",
     "output_type": "stream",
     "text": [
      "lets learn conditions\n"
     ]
    }
   ],
   "source": [
    "'''\n",
    "There are three types of conditional statements\n",
    "1) if ..elif ..else\n",
    "2)for .. else\n",
    "3)while \n",
    "'''\n",
    "print 'lets learn conditions'"
   ]
  },
  {
   "cell_type": "code",
   "execution_count": null,
   "metadata": {
    "collapsed": true
   },
   "outputs": [],
   "source": [
    "\"\"\"if else has three variations\n",
    "1)just if\n",
    "2)if else\n",
    "3)if..elif..else \"\"\"\n",
    "\n",
    "#swaroopch.com byte of python\n",
    "\n",
    "number = 23\n",
    "guess = int(raw_input('Enter an integer : '))\n",
    "\n",
    "if guess == number:\n",
    "    # New block starts here\n",
    "    print 'Congratulations, you guessed it.'\n",
    "    print '(but you do not win any prizes!)'\n",
    "    # New block ends here\n",
    "elif guess < number:\n",
    "    # Another block\n",
    "    print 'No, it is a little higher than that'\n",
    "    # You can do whatever you want in a block ...\n",
    "else:\n",
    "    print 'No, it is a little lower than that'\n",
    "    # you must have guessed > number to reach here\n",
    "\n",
    "print 'Done'\n",
    "# This last statement is always executed,\n",
    "# after the if statement is executed"
   ]
  },
  {
   "cell_type": "code",
   "execution_count": null,
   "metadata": {
    "collapsed": true
   },
   "outputs": [],
   "source": [
    "'''while loop : when the condition is true donot stop executing'''\n",
    "#continue with the guessing game until no is guessed"
   ]
  },
  {
   "cell_type": "code",
   "execution_count": 2,
   "metadata": {
    "collapsed": false
   },
   "outputs": [
    {
     "name": "stdout",
     "output_type": "stream",
     "text": [
      "1\n",
      "2\n",
      "3\n",
      "4\n",
      "5\n",
      "6\n",
      "7\n",
      "8\n",
      "9\n"
     ]
    }
   ],
   "source": [
    "'''for loop comes in three variations lets try them out'''\n",
    "for ele in range(1,10):\n",
    "    print ele"
   ]
  },
  {
   "cell_type": "code",
   "execution_count": 3,
   "metadata": {
    "collapsed": false
   },
   "outputs": [
    {
     "name": "stdout",
     "output_type": "stream",
     "text": [
      "0\n",
      "2\n",
      "4\n",
      "6\n",
      "8\n"
     ]
    }
   ],
   "source": [
    "#range(start,stop,increment)\n",
    "for ele in range(0,10,2):\n",
    "    print ele"
   ]
  },
  {
   "cell_type": "code",
   "execution_count": 4,
   "metadata": {
    "collapsed": false
   },
   "outputs": [
    {
     "name": "stdout",
     "output_type": "stream",
     "text": [
      "0\n",
      "2\n"
     ]
    }
   ],
   "source": [
    "#range(start,stop,increment)\n",
    "for ele in range(0,10,2):\n",
    "    print ele\n",
    "    if ele == 2:\n",
    "        break\n",
    "else:\n",
    "    print 'in else' "
   ]
  },
  {
   "cell_type": "code",
   "execution_count": 6,
   "metadata": {
    "collapsed": false
   },
   "outputs": [
    {
     "name": "stdout",
     "output_type": "stream",
     "text": [
      "0\n",
      "2\n",
      "4\n",
      "6\n",
      "8\n",
      "successful execution of for loop \n"
     ]
    }
   ],
   "source": [
    "for ele in range(0,10,2):\n",
    "    print ele\n",
    "else:\n",
    "    print 'successful execution of for loop ' "
   ]
  },
  {
   "cell_type": "code",
   "execution_count": null,
   "metadata": {
    "collapsed": true
   },
   "outputs": [],
   "source": []
  }
 ],
 "metadata": {
  "kernelspec": {
   "display_name": "Python 2",
   "language": "python",
   "name": "python2"
  },
  "language_info": {
   "codemirror_mode": {
    "name": "ipython",
    "version": 2
   },
   "file_extension": ".py",
   "mimetype": "text/x-python",
   "name": "python",
   "nbconvert_exporter": "python",
   "pygments_lexer": "ipython2",
   "version": "2.7.6"
  }
 },
 "nbformat": 4,
 "nbformat_minor": 0
}
