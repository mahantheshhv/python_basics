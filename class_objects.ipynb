{
 "metadata": {
  "name": "class_objects"
 }, 
 "nbformat": 2, 
 "worksheets": [
  {
   "cells": [
    {
     "cell_type": "code", 
     "collapsed": false, 
     "input": [
      "#>>>>     Ooops  !!!!!!!!!!!!!!  <<<<", 
      "Normal way of writing is \" procedure-oriented \"", 
      ">>> Combining/packing the data and functions into something(object ) is object oriented", 
      "", 
      ">>> Classes and objects are base for Object oriented programming", 
      "", 
      ">>> Variables defined in class are called as fields", 
      "", 
      ">>> Functions are defined in class , these are methods of class", 
      "", 
      ">>> Fields and methods collectively called as attributes", 
      "", 
      ">>> Fields of class are called as class variables", 
      "", 
      ">>> Fields of class are called as instance variables"
     ], 
     "language": "python", 
     "outputs": [], 
     "prompt_number": 2
    }, 
    {
     "cell_type": "code", 
     "collapsed": true, 
     "input": [
      "\"** class is the keyword to create a class \"", 
      "", 
      "\"thy Self\"", 
      "", 
      "\"the difference b/w function and class function is self\"", 
      "", 
      "\"No value is assigned to self, python will provide the value \"", 
      "", 
      "if Myclass is a class defined and Myobj is instance of my class:", 
      "    Mymethod is function defined in class", 
      "    ", 
      "class Myclass:", 
      "    def Mymethod(self,arg1,arg2):", 
      "        pass", 
      "", 
      "#creating an instance ", 
      "Myobj = Myclass()", 
      " #calling method from instance ", 
      "Myobj.Mymethod(arg1 ,arg2)", 
      "    ", 
      "\" ** the above call gets converted into the following \"", 
      " ", 
      "MyClass.method(myobject, arg1, arg2)", 
      "    "
     ], 
     "language": "python", 
     "outputs": []
    }, 
    {
     "cell_type": "code", 
     "collapsed": false, 
     "input": [
      "''' lets create a class '''", 
      "", 
      "class dummy:", 
      "    pass", 
      "", 
      "dumb = dummy()", 
      "print dumb"
     ], 
     "language": "python", 
     "outputs": [
      {
       "output_type": "stream", 
       "stream": "stdout", 
       "text": [
        "<__main__.dummy instance at 0x25e1a70>"
       ]
      }
     ], 
     "prompt_number": 3
    }, 
    {
     "cell_type": "code", 
     "collapsed": true, 
     "input": [
      "\"lets create a class with a method\"", 
      "", 
      "class person:", 
      "    ", 
      "    def qualities():", 
      "        print \"I dont have any quality\"", 
      ""
     ], 
     "language": "python", 
     "outputs": [], 
     "prompt_number": 4
    }, 
    {
     "cell_type": "code", 
     "collapsed": false, 
     "input": [
      "Akwal = person()", 
      "Akwal.qualities()"
     ], 
     "language": "python", 
     "outputs": [
      {
       "ename": "TypeError", 
       "evalue": "qualities() takes no arguments (1 given)", 
       "output_type": "pyerr", 
       "traceback": [
        "\u001b[0;31m---------------------------------------------------------------------------\u001b[0m\n\u001b[0;31mTypeError\u001b[0m                                 Traceback (most recent call last)", 
        "\u001b[0;32m/home/manthu/apps/python_basics/python_basics/<ipython-input-6-82f25462748b>\u001b[0m in \u001b[0;36m<module>\u001b[0;34m()\u001b[0m\n\u001b[1;32m      1\u001b[0m \u001b[0mAkwal\u001b[0m \u001b[0;34m=\u001b[0m \u001b[0mperson\u001b[0m\u001b[0;34m(\u001b[0m\u001b[0;34m)\u001b[0m\u001b[0;34m\u001b[0m\u001b[0m\n\u001b[0;32m----> 2\u001b[0;31m \u001b[0mAkwal\u001b[0m\u001b[0;34m.\u001b[0m\u001b[0mqualities\u001b[0m\u001b[0;34m(\u001b[0m\u001b[0;34m)\u001b[0m\u001b[0;34m\u001b[0m\u001b[0m\n\u001b[0m", 
        "\u001b[0;31mTypeError\u001b[0m: qualities() takes no arguments (1 given)"
       ]
      }
     ], 
     "prompt_number": 6
    }, 
    {
     "cell_type": "code", 
     "collapsed": false, 
     "input": [
      "\"lets redefine the class method with self variable\"", 
      "", 
      "class person:", 
      "    ", 
      "    def qualities(self):", 
      "        print \"I dont have any quality\"", 
      "", 
      "Akwal = person()", 
      "Akwal.qualities()"
     ], 
     "language": "python", 
     "outputs": [
      {
       "output_type": "stream", 
       "stream": "stdout", 
       "text": [
        "I dont have any quality"
       ]
      }
     ], 
     "prompt_number": 8
    }, 
    {
     "cell_type": "code", 
     "collapsed": true, 
     "input": [
      "\"\"\"", 
      ">>> __init__ is a special method that is executed when we instantiate the class", 
      "", 
      "\"\"\""
     ], 
     "language": "python", 
     "outputs": []
    }, 
    {
     "cell_type": "code", 
     "collapsed": false, 
     "input": [
      "class Person:", 
      "    def __init__(self, name = 'default'):", 
      "        self.name = name", 
      "    ", 
      "    def wishes(self):", 
      "        print 'Hello, my name is', self.name", 
      "", 
      "Akwal = Person()", 
      "Akwal.wishes()"
     ], 
     "language": "python", 
     "outputs": [
      {
       "output_type": "stream", 
       "stream": "stdout", 
       "text": [
        "Hello, my name is default"
       ]
      }
     ], 
     "prompt_number": 19
    }, 
    {
     "cell_type": "code", 
     "collapsed": false, 
     "input": [
      "kalam = Person('kalam')", 
      "kalam.wishes()"
     ], 
     "language": "python", 
     "outputs": [
      {
       "output_type": "stream", 
       "stream": "stdout", 
       "text": [
        "Hello, my name is kalam"
       ]
      }
     ], 
     "prompt_number": 20
    }, 
    {
     "cell_type": "code", 
     "collapsed": true, 
     "input": [], 
     "language": "python", 
     "outputs": []
    }, 
    {
     "cell_type": "code", 
     "collapsed": false, 
     "input": [
      "class Robot:", 
      "    \"\"\"Represents a robot, with a name.\"\"\"", 
      "", 
      "    # A class variable, counting the number of robots", 
      "    population = 0", 
      "", 
      "    def __init__(self, name):", 
      "        \"\"\"Initializes the data.\"\"\"", 
      "        self.name = name", 
      "        print \"(Initializing {})\".format(self.name)", 
      "", 
      "        # When this person is created, the robot", 
      "        # adds to the population", 
      "        Robot.population += 1", 
      "", 
      "    def die(self):", 
      "        \"\"\"I am dying.\"\"\"", 
      "        print \"{} is being destroyed!\".format(self.name)", 
      "", 
      "        Robot.population -= 1", 
      "", 
      "        if Robot.population == 0:", 
      "            print \"{} was the last one.\".format(self.name)", 
      "        else:", 
      "            print \"There are still {:d} robots working.\".format(", 
      "                Robot.population)", 
      "", 
      "    def say_hi(self):", 
      "        \"\"\"Greeting by the robot.", 
      "", 
      "        Yeah, they can do that.\"\"\"", 
      "        print \"Greetings, my masters call me {}.\".format(self.name)", 
      "", 
      "    @classmethod", 
      "    def how_many(cls):", 
      "        \"\"\"Prints the current population.\"\"\"", 
      "        print \"We have {:d} robots.\".format(cls.population)", 
      "", 
      "", 
      "droid1 = Robot(\"R2-D2\")", 
      "droid1.say_hi()", 
      "Robot.how_many()", 
      "", 
      "droid2 = Robot(\"C-3PO\")", 
      "droid2.say_hi()", 
      "Robot.how_many()", 
      "", 
      "print \"\\nRobots can do some work here.\\n\"", 
      "", 
      "print \"Robots have finished their work. So let's destroy them.\"", 
      "droid1.die()", 
      "droid2.die()", 
      "", 
      "Robot.how_many()"
     ], 
     "language": "python", 
     "outputs": [
      {
       "output_type": "stream", 
       "stream": "stdout", 
       "text": [
        "(Initializing R2-D2)", 
        "Greetings, my masters call me R2-D2.", 
        "We have 1 robots.", 
        "(Initializing C-3PO)", 
        "Greetings, my masters call me C-3PO.", 
        "We have 2 robots.", 
        "", 
        "Robots can do some work here.", 
        "", 
        "Robots have finished their work. So let's destroy them.", 
        "R2-D2 is being destroyed!", 
        "There are still 1 robots working.", 
        "C-3PO is being destroyed!", 
        "C-3PO was the last one.", 
        "We have 0 robots."
       ]
      }
     ], 
     "prompt_number": 21
    }, 
    {
     "cell_type": "code", 
     "collapsed": false, 
     "input": [
      "Robot.how_many"
     ], 
     "language": "python", 
     "outputs": [
      {
       "output_type": "pyout", 
       "prompt_number": 28, 
       "text": [
        "<bound method classobj.how_many of <class __main__.Robot at 0x2692ef0>>"
       ]
      }
     ], 
     "prompt_number": 28
    }, 
    {
     "cell_type": "code", 
     "collapsed": false, 
     "input": [
      "Robot.say_hi"
     ], 
     "language": "python", 
     "outputs": [
      {
       "output_type": "pyout", 
       "prompt_number": 29, 
       "text": [
        "<unbound method Robot.say_hi>"
       ]
      }
     ], 
     "prompt_number": 29
    }, 
    {
     "cell_type": "code", 
     "collapsed": false, 
     "input": [
      "type(Robot.population)"
     ], 
     "language": "python", 
     "outputs": [
      {
       "output_type": "pyout", 
       "prompt_number": 30, 
       "text": [
        "int"
       ]
      }
     ], 
     "prompt_number": 30
    }
   ]
  }
 ]
}