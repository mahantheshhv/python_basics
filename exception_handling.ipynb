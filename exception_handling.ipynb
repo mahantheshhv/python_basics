{
 "metadata": {
  "name": "exception_handling"
 }, 
 "nbformat": 2, 
 "worksheets": [
  {
   "cells": [
    {
     "cell_type": "code", 
     "collapsed": false, 
     "input": [
      "#exception handling           ", 
      "if(1):", 
      "    try:", 
      "        a = 10/0", 
      "    except ZeroDivisionError,detail:", 
      "        print \"Error caught, details: \",detail"
     ], 
     "language": "python", 
     "outputs": [
      {
       "output_type": "stream", 
       "stream": "stdout", 
       "text": [
        "Error caught, details:  integer division or modulo by zero"
       ]
      }
     ], 
     "prompt_number": 1
    }, 
    {
     "cell_type": "code", 
     "collapsed": false, 
     "input": [
      "if(1):", 
      "    try:", 
      "        a = 10/0", 
      "    except Exception,detail:            #any kind of exception is caught here", 
      "        print \"Error caught, details: \",detail"
     ], 
     "language": "python", 
     "outputs": [
      {
       "output_type": "stream", 
       "stream": "stdout", 
       "text": [
        "Error caught, details:  integer division or modulo by zero"
       ]
      }
     ], 
     "prompt_number": 2
    }, 
    {
     "cell_type": "code", 
     "collapsed": false, 
     "input": [
      "if(1):", 
      "    try:", 
      "        #a = 10/0", 
      "        print p", 
      "    except ZeroDivisionError,detail:", 
      "        print \"Error caught, details: \",detail", 
      "    except NameError,nameErr:", 
      "        print \"Error caught, details: \",nameErr"
     ], 
     "language": "python", 
     "outputs": [
      {
       "output_type": "stream", 
       "stream": "stdout", 
       "text": [
        "Error caught, details:  name 'p' is not defined"
       ]
      }
     ], 
     "prompt_number": 3
    }, 
    {
     "cell_type": "code", 
     "collapsed": false, 
     "input": [
      "if(1):", 
      "    try:", 
      "        print p", 
      "        try:", 
      "            a = 10/0", 
      "        except ZeroDivisionError,detail:", 
      "            print \"Error caught, details: \",detail   #only NameError is caught ", 
      "    except NameError,nameErr:", 
      "        print \"Error caught, details: \",nameErr"
     ], 
     "language": "python", 
     "outputs": [
      {
       "output_type": "stream", 
       "stream": "stdout", 
       "text": [
        "Error caught, details:  name 'p' is not defined"
       ]
      }
     ], 
     "prompt_number": 4
    }, 
    {
     "cell_type": "code", 
     "collapsed": false, 
     "input": [
      "if(1):", 
      "    try:", 
      "        #a = 10 + 0        ------------->>>>>> else will be executed", 
      "        a = 10 % 0          #prints the exception msg and finally and 'out of everything'", 
      "    except ZeroDivisionError,detail:", 
      "        print \"div by 0. Details :\",detail", 
      "    else:", 
      "        print \"in else\"", 
      "    finally:", 
      "        print \"in finally\"", 
      "    print \"out of everything\""
     ], 
     "language": "python", 
     "outputs": [
      {
       "output_type": "stream", 
       "stream": "stdout", 
       "text": [
        "div by 0. Details : integer division or modulo by zero", 
        "in finally", 
        "out of everything"
       ]
      }
     ], 
     "prompt_number": 5
    }, 
    {
     "cell_type": "code", 
     "collapsed": false, 
     "input": [
      "if(1):", 
      "    try:", 
      "        print \"hi\"", 
      "        raise ZeroDivisionError", 
      "        c = 10 + 5              #doesnot execute this", 
      "        print c", 
      "    except Exception,detail:", 
      "        print \"Error caught, details: \",detail"
     ], 
     "language": "python", 
     "outputs": [
      {
       "output_type": "stream", 
       "stream": "stdout", 
       "text": [
        "hi", 
        "Error caught, details:  "
       ]
      }
     ], 
     "prompt_number": 6
    }, 
    {
     "cell_type": "code", 
     "collapsed": false, 
     "input": [
      "if(1):", 
      "    try:", 
      "        a = 10 % 0          ", 
      "    except ZeroDivisionError,detail:", 
      "        print \"div by 0. Details :\",detail", 
      "    else:", 
      "        print \"in else : and sys.exit\"", 
      "        import sys", 
      "        ", 
      "    finally:", 
      "        print \"in finally\"", 
      "    print \"out of everything\""
     ], 
     "language": "python", 
     "outputs": [
      {
       "output_type": "stream", 
       "stream": "stdout", 
       "text": [
        "div by 0. Details : integer division or modulo by zero", 
        "in finally", 
        "out of everything"
       ]
      }
     ], 
     "prompt_number": 7
    }, 
    {
     "cell_type": "code", 
     "collapsed": false, 
     "input": [
      "#experiments on Exception handling", 
      "if(0):", 
      "    try:", 
      "        x = 1", 
      "        if(x == 1):", 
      "            print x", 
      "    except SyntaxError,theDetail:", 
      "        print \"caught SyntaxError. here is the detail : \",theDetail #not working", 
      "", 
      "if(0):", 
      "    try:", 
      "        print x, 0", 
      "    except NameError,theDetail:", 
      "        print \"caught NameError. here is the detail : \",theDetail", 
      "", 
      "if(1):", 
      "    try:", 
      "        x = 1", 
      "        y = x + 'p' ", 
      "    except TypeError,theDetail:", 
      "        print \"caught TypeError. here is the detail : \",theDetail"
     ], 
     "language": "python", 
     "outputs": [
      {
       "output_type": "stream", 
       "stream": "stdout", 
       "text": [
        "caught TypeError. here is the detail :  unsupported operand type(s) for +: 'int' and 'str'"
       ]
      }
     ], 
     "prompt_number": 10
    }, 
    {
     "cell_type": "code", 
     "collapsed": true, 
     "input": [], 
     "language": "python", 
     "outputs": []
    }
   ]
  }
 ]
}