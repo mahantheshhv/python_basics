{
 "metadata": {
  "name": "file_operations"
 }, 
 "nbformat": 2, 
 "worksheets": [
  {
   "cells": [
    {
     "cell_type": "code", 
     "collapsed": false, 
     "input": [
      "#read and write operation on a file", 
      "#1. Without using seek", 
      "if(1):", 
      "    f1 = open(\"new.txt\",\"w\")", 
      "    f1.flush() #The flush operation forces the file data into the file cache in RAM", 
      "    f1.writelines(\"This is line 1 \\n\")", 
      "    f1.writelines(\"This is line 2 \\n\")", 
      "    f1.writelines(\"This is line 3 \\n\")", 
      "    f1.writelines(\"This is line 4 \\n\")", 
      "    f1.close()", 
      "    f1 = open(\"new.txt\",\"r\")", 
      "    print f1.read()"
     ], 
     "language": "python", 
     "outputs": [
      {
       "output_type": "stream", 
       "stream": "stdout", 
       "text": [
        "This is line 1 ", 
        "This is line 2 ", 
        "This is line 3 ", 
        "This is line 4 ", 
        ""
       ]
      }
     ], 
     "prompt_number": 1
    }, 
    {
     "cell_type": "code", 
     "collapsed": false, 
     "input": [
      "#2. Using seek", 
      "if(1):", 
      "    f1 = open(\"new.txt\",\"w+\")", 
      "    f1.flush()", 
      "    f1.writelines(\"This is line 1 \\n\")", 
      "    f1.writelines(\"This is line 2 \\n\")", 
      "    f1.writelines(\"This is line 3 \\n\")", 
      "    f1.writelines(\"This is line 4 \\n\")", 
      "    f1.seek(0)", 
      "    print f1.read()", 
      "    print f1.read() # this will not print any thing as the pointer is already at end"
     ], 
     "language": "python", 
     "outputs": [
      {
       "output_type": "stream", 
       "stream": "stdout", 
       "text": [
        "This is line 1 ", 
        "This is line 2 ", 
        "This is line 3 ", 
        "This is line 4 ", 
        "", 
        ""
       ]
      }
     ], 
     "prompt_number": 2
    }, 
    {
     "cell_type": "code", 
     "collapsed": false, 
     "input": [
      "if(1):", 
      "    f1 = open(\"new.txt\",\"r+\")", 
      "    lines = f1.readlines()", 
      "    print lines", 
      "    "
     ], 
     "language": "python", 
     "outputs": [
      {
       "output_type": "stream", 
       "stream": "stdout", 
       "text": [
        "['This is line 1 \\n', 'This is line 2 \\n', 'This is line 3 \\n', 'This is line 4 \\n']"
       ]
      }
     ], 
     "prompt_number": 3
    }, 
    {
     "cell_type": "code", 
     "collapsed": false, 
     "input": [
      "if(1):", 
      "    f1 = open(\"new.txt\",\"r+\")", 
      "    lines = f1.readlines()", 
      "    print lines", 
      "    lines_2 = f1.readlines()", 
      "    print lines_2 # prints empty list"
     ], 
     "language": "python", 
     "outputs": [
      {
       "output_type": "stream", 
       "stream": "stdout", 
       "text": [
        "['This is line 1 \\n', 'This is line 2 \\n', 'This is line 3 \\n', 'This is line 4 \\n']", 
        "[]"
       ]
      }
     ], 
     "prompt_number": 4
    }
   ]
  }
 ]
}