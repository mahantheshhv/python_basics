{
 "metadata": {
  "name": "inheritance"
 }, 
 "nbformat": 2, 
 "worksheets": [
  {
   "cells": [
    {
     "cell_type": "code", 
     "collapsed": true, 
     "input": [
      ">>> inheritance "
     ], 
     "language": "python", 
     "outputs": []
    }, 
    {
     "cell_type": "code", 
     "collapsed": false, 
     "input": [
      "class Indian:", 
      "    ''' represents any indian ''' ", 
      "    def __init__(self , name ,profession):", 
      "        self.name = name", 
      "        self.profession = profession", 
      "    ", 
      "    def message(self):", 
      "        print 'I am %s and my profession is %s , and I love India ' %(self.name,self.profession)", 
      "        ", 
      "        ", 
      "person = Indian('ram' , 'python developer')", 
      "person.message()", 
      "        "
     ], 
     "language": "python", 
     "outputs": [
      {
       "output_type": "stream", 
       "stream": "stdout", 
       "text": [
        "I am ram and my profession is python developer , and I love India "
       ]
      }
     ], 
     "prompt_number": 4
    }, 
    {
     "cell_type": "code", 
     "collapsed": false, 
     "input": [
      "class President(Indian):", 
      "    '''Represents a President.'''", 
      "    ", 
      "    def __init__(self, name, profession, message_text):", 
      "        Indian.__init__(self, name, profession)", 
      "        self.message_text = message_text", 
      "        print '%s elected as %s' % (self.name,self.profession)", 
      "        ", 
      "", 
      "    def message(self):", 
      "        Indian.message(self)", 
      "        print 'my message to country is %s' % (self.message_text)", 
      "        ", 
      "        ", 
      "kalam = President('kalam' , 'president' , 'vision 20:20')        ", 
      "kalam.message()       "
     ], 
     "language": "python", 
     "outputs": [
      {
       "output_type": "stream", 
       "stream": "stdout", 
       "text": [
        "kalam elected as president", 
        "I am kalam and my profession is president , and I love India ", 
        "my message to country is vision 20:20"
       ]
      }
     ], 
     "prompt_number": 12
    }, 
    {
     "cell_type": "code", 
     "collapsed": true, 
     "input": [], 
     "language": "python", 
     "outputs": []
    }
   ]
  }
 ]
}