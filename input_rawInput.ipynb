{
 "metadata": {
  "name": "input_rawInput"
 }, 
 "nbformat": 2, 
 "worksheets": [
  {
   "cells": [
    {
     "cell_type": "code", 
     "collapsed": false, 
     "input": [
      "''' Examples for input() and raw_input() '''", 
      "P = 'Narendra'", 
      "M = 'Modi'", 
      "", 
      ">>> P = 'Narendra'", 
      ">>> M = 'Modi'", 
      ">>> ", 
      ">>> pm_role = raw_input()", 
      "P + M", 
      "", 
      ">>> pm_role", 
      "'P + M'", 
      "", 
      ">>> pm_name = input()", 
      "P + M", 
      ">>> pm_name", 
      "'NarendraModi'"
     ], 
     "language": "python", 
     "outputs": [], 
     "prompt_number": 3
    }, 
    {
     "cell_type": "code", 
     "collapsed": true, 
     "input": [
      "raw_input()  , takes input as a str", 
      "input() , evaluates the expr"
     ], 
     "language": "python", 
     "outputs": []
    }
   ]
  }
 ]
}