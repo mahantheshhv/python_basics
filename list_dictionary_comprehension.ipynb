{
 "metadata": {
  "name": "list_dictionary_comprehension"
 }, 
 "nbformat": 2, 
 "worksheets": [
  {
   "cells": [
    {
     "cell_type": "code", 
     "collapsed": false, 
     "input": [
      "'''square of nos 2 lists'''", 
      "l1 = range(0,5)", 
      "l2 = list()", 
      "", 
      "for ele in l1:", 
      "    l2.append(ele*ele)", 
      "    ", 
      "print l2     "
     ], 
     "language": "python", 
     "outputs": [
      {
       "output_type": "stream", 
       "stream": "stdout", 
       "text": [
        "[0, 1, 4, 9, 16]"
       ]
      }
     ], 
     "prompt_number": 1
    }, 
    {
     "cell_type": "code", 
     "collapsed": false, 
     "input": [
      "''' same operation can be achieved in a sinle line using LC'''", 
      "", 
      "# syntax is", 
      "# [{operation} {iteration} {condition)]", 
      "# condition is optional", 
      "", 
      "sq_li = [ele * ele for ele in range(0,10) ]", 
      "print sq_li"
     ], 
     "language": "python", 
     "outputs": [
      {
       "output_type": "stream", 
       "stream": "stdout", 
       "text": [
        "[0, 1, 4, 9, 16, 25, 36, 49, 64, 81]"
       ]
      }
     ], 
     "prompt_number": 2
    }, 
    {
     "cell_type": "code", 
     "collapsed": false, 
     "input": [
      "''' list comprhension with condition '''", 
      "", 
      "", 
      "", 
      "sq_li = [ele * ele for ele in range(0,10) if ele%2 ]", 
      "print sq_li", 
      "", 
      ""
     ], 
     "language": "python", 
     "outputs": [
      {
       "output_type": "stream", 
       "stream": "stdout", 
       "text": [
        "[1, 9, 25, 49, 81]"
       ]
      }
     ], 
     "prompt_number": 3
    }, 
    {
     "cell_type": "code", 
     "collapsed": false, 
     "input": [
      "''' multiple for in list comprhension '''", 
      "", 
      "entries = [[u'man', u'thats'],[ u'right',u'awesome']]", 
      "print [tag for entry in entries for tag in entry]"
     ], 
     "language": "python", 
     "outputs": [
      {
       "output_type": "stream", 
       "stream": "stdout", 
       "text": [
        "[u'man', u'thats', u'right', u'awesome']"
       ]
      }
     ], 
     "prompt_number": 4
    }, 
    {
     "cell_type": "code", 
     "collapsed": false, 
     "input": [
      "'''creating a key value pair of no and its square '''", 
      "", 
      "", 
      "''' create a empty dictionary '''", 
      "di = {}", 
      "for ele in range(5):", 
      "    di[ele] = ele * ele", 
      "print di    "
     ], 
     "language": "python", 
     "outputs": [
      {
       "output_type": "stream", 
       "stream": "stdout", 
       "text": [
        "{0: 0, 1: 1, 2: 4, 3: 9, 4: 16}"
       ]
      }
     ], 
     "prompt_number": 6
    }, 
    {
     "cell_type": "code", 
     "collapsed": false, 
     "input": [
      "''' dictionary comprehension '''", 
      "#syntax {key : value iterator conditon}", 
      "", 
      "d = {n: n**2 for n in range(5)}", 
      "print d"
     ], 
     "language": "python", 
     "outputs": [
      {
       "output_type": "stream", 
       "stream": "stdout", 
       "text": [
        "{0: 0, 1: 1, 2: 4, 3: 9, 4: 16}"
       ]
      }
     ], 
     "prompt_number": 7
    }
   ]
  }
 ]
}