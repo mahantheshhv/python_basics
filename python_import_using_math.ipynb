{
 "metadata": {
  "name": "python_import_using_math"
 }, 
 "nbformat": 2, 
 "worksheets": [
  {
   "cells": [
    {
     "cell_type": "code", 
     "collapsed": false, 
     "input": [
      "#types of importing", 
      "if(0):", 
      "    import os", 
      "    x = 10", 
      "    y = 20", 
      "    print globals()  # this will show the entry for x,y and the path of os module", 
      "    del y", 
      "    print globals() #entry for y is deleted"
     ], 
     "language": "python", 
     "outputs": [], 
     "prompt_number": 1
    }, 
    {
     "cell_type": "code", 
     "collapsed": false, 
     "input": [
      "if(1):", 
      "    import math", 
      "    print math.pi"
     ], 
     "language": "python", 
     "outputs": [
      {
       "output_type": "stream", 
       "stream": "stdout", 
       "text": [
        "3.14159265359"
       ]
      }
     ], 
     "prompt_number": 3
    }, 
    {
     "cell_type": "code", 
     "collapsed": true, 
     "input": [
      "'''pass when u are not aware of what to do'''", 
      "if(1):", 
      "    pass"
     ], 
     "language": "python", 
     "outputs": [], 
     "prompt_number": 6
    }, 
    {
     "cell_type": "code", 
     "collapsed": false, 
     "input": [
      "if(1):", 
      "    from math import pi", 
      "    print pi"
     ], 
     "language": "python", 
     "outputs": [
      {
       "output_type": "stream", 
       "stream": "stdout", 
       "text": [
        "3.14159265359"
       ]
      }
     ], 
     "prompt_number": 7
    }, 
    {
     "cell_type": "code", 
     "collapsed": false, 
     "input": [
      "if(1):", 
      "    from math import pi,sin", 
      "    print pi", 
      "    print sin(pi/2)"
     ], 
     "language": "python", 
     "outputs": [
      {
       "output_type": "stream", 
       "stream": "stdout", 
       "text": [
        "3.14159265359", 
        "1.0"
       ]
      }
     ], 
     "prompt_number": 8
    }, 
    {
     "cell_type": "code", 
     "collapsed": false, 
     "input": [
      "if(1):", 
      "    from math import *", 
      "    print pi,sin(pi)", 
      "    print sin(pi/2)"
     ], 
     "language": "python", 
     "outputs": [
      {
       "output_type": "stream", 
       "stream": "stdout", 
       "text": [
        "3.14159265359 1.22464679915e-16", 
        "1.0"
       ]
      }
     ], 
     "prompt_number": 9
    }, 
    {
     "cell_type": "code", 
     "collapsed": false, 
     "input": [
      "if(1):", 
      "    from math import pi as PI", 
      "    print PI"
     ], 
     "language": "python", 
     "outputs": [
      {
       "output_type": "stream", 
       "stream": "stdout", 
       "text": [
        "3.14159265359"
       ]
      }
     ], 
     "prompt_number": 10
    }, 
    {
     "cell_type": "code", 
     "collapsed": false, 
     "input": [
      "if(1):", 
      "    from math import pi", 
      "    PI = pi", 
      "    print \"PI\", PI", 
      "    PI = 3.14", 
      "    print \"PI\", PI", 
      "    print \"pi\", pi  # this doesnot change as pi is an immutable object"
     ], 
     "language": "python", 
     "outputs": [
      {
       "output_type": "stream", 
       "stream": "stdout", 
       "text": [
        "PI 3.14159265359", 
        "PI 3.14", 
        "pi 3.14159265359"
       ]
      }
     ], 
     "prompt_number": 11
    }, 
    {
     "cell_type": "code", 
     "collapsed": true, 
     "input": [], 
     "language": "python", 
     "outputs": []
    }
   ]
  }
 ]
}