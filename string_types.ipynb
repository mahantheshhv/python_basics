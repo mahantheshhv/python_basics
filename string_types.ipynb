{
 "metadata": {
  "name": "string_types"
 }, 
 "nbformat": 2, 
 "worksheets": [
  {
   "cells": [
    {
     "cell_type": "code", 
     "collapsed": true, 
     "input": [
      "''' strings and raw_strings '''"
     ], 
     "language": "python", 
     "outputs": []
    }, 
    {
     "cell_type": "code", 
     "collapsed": true, 
     "input": [
      "str1 = 'first line \\nsecond line'", 
      "str2 = r'first line \\n second line'", 
      "str3 = u'first line \\n second line'"
     ], 
     "language": "python", 
     "outputs": [], 
     "prompt_number": 1
    }, 
    {
     "cell_type": "code", 
     "collapsed": false, 
     "input": [
      "''' strings are differenyt from raw strings'''", 
      "", 
      "print str1 == str2", 
      "print len(str1)", 
      "print len(str2)", 
      ""
     ], 
     "language": "python", 
     "outputs": [
      {
       "output_type": "stream", 
       "stream": "stdout", 
       "text": [
        "False", 
        "23", 
        "25"
       ]
      }
     ], 
     "prompt_number": 2
    }, 
    {
     "cell_type": "code", 
     "collapsed": false, 
     "input": [
      "print '**printing str1**' , ", 
      "print str1"
     ], 
     "language": "python", 
     "outputs": [
      {
       "output_type": "stream", 
       "stream": "stdout", 
       "text": [
        "**printing str1**", 
        "first line ", 
        "second line"
       ]
      }
     ], 
     "prompt_number": 3
    }, 
    {
     "cell_type": "code", 
     "collapsed": false, 
     "input": [
      "print '**printing str1**' , ", 
      "print str2"
     ], 
     "language": "python", 
     "outputs": [
      {
       "output_type": "stream", 
       "stream": "stdout", 
       "text": [
        "**printing str1**", 
        "first line \\n second line"
       ]
      }
     ], 
     "prompt_number": 4
    }, 
    {
     "cell_type": "code", 
     "collapsed": false, 
     "input": [
      "''' the other type of string for multiline commenting '''"
     ], 
     "language": "python", 
     "outputs": [
      {
       "output_type": "pyout", 
       "prompt_number": 5, 
       "text": [
        "' the other type of string for multiline commenting '"
       ]
      }
     ], 
     "prompt_number": 5
    }, 
    {
     "cell_type": "code", 
     "collapsed": false, 
     "input": [
      "print \"My name is %s I am leading NDA %d kg!\" % ('Modi', 2)"
     ], 
     "language": "python", 
     "outputs": [
      {
       "output_type": "stream", 
       "stream": "stdout", 
       "text": [
        "My name is Modi I am leading NDA 2 kg!"
       ]
      }
     ], 
     "prompt_number": 6
    }
   ]
  }
 ]
}