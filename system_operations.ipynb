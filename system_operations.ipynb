{
 "metadata": {
  "name": "system_operations"
 }, 
 "nbformat": 2, 
 "worksheets": [
  {
   "cells": [
    {
     "cell_type": "code", 
     "collapsed": false, 
     "input": [
      "print ''' OS module '''"
     ], 
     "language": "python", 
     "outputs": [
      {
       "output_type": "stream", 
       "stream": "stdout", 
       "text": [
        " OS module "
       ]
      }
     ], 
     "prompt_number": 1
    }, 
    {
     "cell_type": "code", 
     "collapsed": false, 
     "input": [
      "import os", 
      "platform = os.name", 
      "print platform", 
      "if (platform == \"nt\"):", 
      "    print(os.system(\"ipconfig\"))", 
      "elif(platform == \"posix\"):", 
      "    print(os.system(\"ifconfig\"))", 
      "else :", 
      "    print \"This platform is not identified\""
     ], 
     "language": "python", 
     "outputs": [
      {
       "output_type": "stream", 
       "stream": "stdout", 
       "text": [
        "posix", 
        "0"
       ]
      }
     ], 
     "prompt_number": 2
    }, 
    {
     "cell_type": "code", 
     "collapsed": false, 
     "input": [
      "import os", 
      "os.system(\"date\")"
     ], 
     "language": "python", 
     "outputs": [
      {
       "output_type": "pyout", 
       "prompt_number": 3, 
       "text": [
        "0"
       ]
      }
     ], 
     "prompt_number": 3
    }, 
    {
     "cell_type": "code", 
     "collapsed": false, 
     "input": [
      "import os", 
      "f = os.popen('date')", 
      "now = f.read()", 
      "print \"Today is \", now"
     ], 
     "language": "python", 
     "outputs": [
      {
       "output_type": "stream", 
       "stream": "stdout", 
       "text": [
        "Today is  Thu Aug  6 16:11:09 IST 2015", 
        ""
       ]
      }
     ], 
     "prompt_number": 4
    }, 
    {
     "cell_type": "code", 
     "collapsed": false, 
     "input": [
      "''' Executing a linux command from python '''", 
      "", 
      "import subprocess", 
      "print subprocess.call([\"ls\", \"-l\",'/'])"
     ], 
     "language": "python", 
     "outputs": [
      {
       "output_type": "stream", 
       "stream": "stdout", 
       "text": [
        "0"
       ]
      }
     ], 
     "prompt_number": 5
    }
   ]
  }
 ]
}