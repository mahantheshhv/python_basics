{
 "metadata": {
  "name": "variable_from_id"
 }, 
 "nbformat": 2, 
 "worksheets": [
  {
   "cells": [
    {
     "cell_type": "code", 
     "collapsed": false, 
     "input": [
      "''' Welcome to Python Training'''"
     ], 
     "language": "python", 
     "outputs": [
      {
       "output_type": "pyout", 
       "prompt_number": 1, 
       "text": [
        "' Welcome to Python Training'"
       ]
      }
     ], 
     "prompt_number": 1
    }, 
    {
     "cell_type": "code", 
     "collapsed": false, 
     "input": [
      "'Get back variable from id'"
     ], 
     "language": "python", 
     "outputs": [
      {
       "output_type": "pyout", 
       "prompt_number": 2, 
       "text": [
        "'Get back variable from id'"
       ]
      }
     ], 
     "prompt_number": 2
    }, 
    {
     "cell_type": "code", 
     "collapsed": false, 
     "input": [
      "import ctypes", 
      "a = \"hello world\"", 
      "print id(a)", 
      "print ctypes.cast(id(a), ctypes.py_object).value"
     ], 
     "language": "python", 
     "outputs": [
      {
       "output_type": "stream", 
       "stream": "stdout", 
       "text": [
        "52549552", 
        "hello world"
       ]
      }
     ], 
     "prompt_number": 3
    }, 
    {
     "cell_type": "code", 
     "collapsed": false, 
     "input": [
      "var = 'I need to be accessed by id!'", 
      "address = id(var)", 
      "print(address)", 
      "var2 = [x for x in globals().values() if id(x)==address]"
     ], 
     "language": "python", 
     "outputs": [
      {
       "output_type": "stream", 
       "stream": "stdout", 
       "text": [
        "52525504"
       ]
      }
     ], 
     "prompt_number": 4
    }
   ]
  }
 ]
}